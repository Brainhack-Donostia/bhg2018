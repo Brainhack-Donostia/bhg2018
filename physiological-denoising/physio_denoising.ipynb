{
 "cells": [
  {
   "cell_type": "markdown",
   "metadata": {},
   "source": [
    "# Physiodenoising of Signal"
   ]
  },
  {
   "cell_type": "markdown",
   "metadata": {},
   "source": [
    "## Step 1: Necessary Libraries"
   ]
  },
  {
   "cell_type": "markdown",
   "metadata": {},
   "source": [
    "Here I am going to be importing all the necessary Python libraries."
   ]
  },
  {
   "cell_type": "code",
   "execution_count": null,
   "metadata": {},
   "outputs": [],
   "source": [
    "# #!/usr/bin/python\n",
    "from __future__ import division\n",
    "\n",
    "import argparse as ap\n",
    "import numpy as np\n",
    "import scipy as sp\n",
    "import os as os\n",
    "import nibabel as nib\n",
    "import json\n",
    "import string\n",
    "import random\n",
    "from subprocess import call\n",
    "import matplotlib as mpl; mpl.use('TkAgg')\n",
    "import matplotlib.pyplot as plt\n",
    "from scipy.signal import argrelmax\n",
    "%matplotlib notebook"
   ]
  },
  {
   "cell_type": "code",
   "execution_count": null,
   "metadata": {},
   "outputs": [],
   "source": [
    "## Generate random string\n",
    "def random_string(length):\n",
    "    return ''.join(random.choice(string.ascii_letters) for m in range(length))"
   ]
  },
  {
   "cell_type": "markdown",
   "metadata": {},
   "source": [
    "## Step 2: Load data for denoising and get some info from header"
   ]
  },
  {
   "cell_type": "code",
   "execution_count": null,
   "metadata": {},
   "outputs": [],
   "source": [
    "input_dataset = '/Users/cesar/cesar_data/myPython/physio_denoising/BIDS/sub-01brainhack/func/sub-01brainhack_task-rest_run-01_bold.nii.gz'\n",
    "json_file = \"/Users/cesar/cesar_data/myPython/physio_denoising/BIDS/sub-01brainhack/func/sub-01brainhack_task-rest_run-01_bold.json\"\n",
    "\n",
    "input_dataset_dir = os.path.dirname(input_dataset)\n",
    "data = nib.load(input_dataset)\n",
    "TR = data.header['pixdim'][4]\n",
    "nscans = data.header['dim'][4]\n",
    "nslices = data.header['dim'][3]\n",
    "print \"TR=\", TR, \"\\nNumber of volumes=\", nscans, \"\\nNumber of slices=\", nslices"
   ]
  },
  {
   "cell_type": "markdown",
   "metadata": {},
   "source": [
    "## Step 3: Get slice slice_timings"
   ]
  },
  {
   "cell_type": "code",
   "execution_count": null,
   "metadata": {},
   "outputs": [],
   "source": [
    "json_data = json.load(open(json_file))\n",
    "slice_timings =  json_data['SliceTiming']\n",
    "# check correct number of  slice_timings\n",
    "if nslices != np.size(slice_timings):\n",
    "    print('Slice timings in {} is not equal to number of slices {}'.format(json_file,nslices))"
   ]
  },
  {
   "cell_type": "code",
   "execution_count": null,
   "metadata": {},
   "outputs": [],
   "source": [
    "print slice_timings"
   ]
  },
  {
   "cell_type": "markdown",
   "metadata": {},
   "source": [
    "## Step 4: Loading pulse signal"
   ]
  },
  {
   "cell_type": "code",
   "execution_count": null,
   "metadata": {},
   "outputs": [],
   "source": [
    "card_file = \"ppg.txt\"\n",
    "pulse = np.genfromtxt(card_file)\n",
    "card_fs = 10000\n",
    "card_ts = 1/card_fs\n",
    "\n",
    "# plot pulse signal\n",
    "card_time = np.arange(0,card_ts*len(pulse),card_ts)\n",
    "plt.figure()\n",
    "plt.plot(card_time,pulse)"
   ]
  },
  {
   "cell_type": "markdown",
   "metadata": {},
   "source": [
    "## Step 5: Preprocessing of pulse signal"
   ]
  },
  {
   "cell_type": "markdown",
   "metadata": {},
   "source": [
    "### Decimate the pulse signal to card_fs around 40 Hz to save computational cost"
   ]
  },
  {
   "cell_type": "code",
   "execution_count": null,
   "metadata": {},
   "outputs": [],
   "source": [
    "card_time = np.arange(0,card_ts*len(pulse),card_ts)\n",
    "fdec_pulse = sp.interpolate.interp1d(card_time,pulse)\n",
    "card_fs = 40\n",
    "card_ts = 1. / card_fs\n",
    "card_newtime = np.arange(0,card_time[-1],card_ts)\n",
    "pulse_dec = fdec_pulse(card_newtime)\n",
    "plt.figure()\n",
    "plt.plot(card_time,pulse)\n",
    "plt.plot(card_newtime,pulse_dec,'k')\n",
    "pulse = pulse_dec\n",
    "card_time = card_newtime"
   ]
  },
  {
   "cell_type": "markdown",
   "metadata": {},
   "source": [
    "### Remove local frequency trends from pulse signal with savitzky_golay"
   ]
  },
  {
   "cell_type": "code",
   "execution_count": null,
   "metadata": {},
   "outputs": [],
   "source": [
    "window_sg = 20 * card_fs # length of window size in seconds\n",
    "if window_sg % 2 == 0:\n",
    "    window_sg = window_sg + 1\n",
    "order_sg = 3 # order of polynomial used in savitzky_golay filter\n",
    "pulse_smooth=sp.signal.savgol_filter(pulse,window_sg,order_sg)\n",
    "pulse_detrend = pulse - pulse_smooth\n",
    "plt.figure()\n",
    "plt.plot(card_time,pulse)\n",
    "plt.plot(card_time,pulse_smooth,'k');\n",
    "plt.plot(card_time,pulse_detrend,'r')\n",
    "plt.show()\n",
    "pulse = pulse_detrend"
   ]
  },
  {
   "cell_type": "markdown",
   "metadata": {},
   "source": [
    "## Step 7: Identification of cardiac peaks"
   ]
  },
  {
   "cell_type": "code",
   "execution_count": null,
   "metadata": {},
   "outputs": [],
   "source": [
    "card_peak_min_dist = int(round(0.6 / card_ts)) # define minimum separation between peaks in timepoints\n",
    "print('Minimum time points between two cardiac peaks is {}'.format(card_peak_min_dist))\n",
    "\n",
    "pulse = np.asarray(pulse)\n",
    "pulse = pulse - pulse.min()\n",
    "card_peaks = np.asarray(argrelmax(pulse, order = card_peak_min_dist))\n",
    "card_peaks = card_peaks.flatten() # convert to numpy.array\n",
    "ax= plt.figure().gca()\n",
    "ax.plot(card_time,pulse)\n",
    "ax.plot(card_time[card_peaks],pulse[card_peaks],linestyle=\"none\",marker='*',markersize=10,color='r')"
   ]
  },
  {
   "cell_type": "markdown",
   "metadata": {},
   "source": [
    "## Step 8: Doing the same for respiration signal"
   ]
  },
  {
   "cell_type": "code",
   "execution_count": null,
   "metadata": {},
   "outputs": [],
   "source": [
    "resp_file = \"resp.txt\"\n",
    "resp = np.genfromtxt(resp_file)\n",
    "resp_fs = 10000\n",
    "resp_ts = 1/resp_fs\n",
    "\n",
    "# plot respiration signal\n",
    "resp_time = np.arange(0,resp_ts*len(resp),resp_ts)\n",
    "ax_1 = plt.figure().gca()\n",
    "ax_1.plot(resp_time,resp)\n",
    "\n",
    "# decimate the respiratory signal to resp_fs around 40 Hz to save computational cost\n",
    "resp_time = np.arange(0,resp_ts*len(resp),resp_ts)\n",
    "fdec_resp = sp.interpolate.interp1d(resp_time,resp)\n",
    "resp_fs = 40\n",
    "resp_ts = 1. / resp_fs\n",
    "resp_newtime = np.arange(0,resp_time[-1],resp_ts)\n",
    "resp_dec = fdec_resp(resp_newtime)\n",
    "#plt.figure()\n",
    "#plt.plot(resp_time,resp,'r');plt.plot(resp_newtime,resp_dec,'k')\n",
    "resp = resp_dec\n",
    "resp_time = resp_newtime\n",
    "\n",
    "# remove local frequency trends from pulse signal with savitzky_golay\n",
    "window_sg = 40 * resp_fs # length of window size in seconds\n",
    "if window_sg % 2 == 0:\n",
    "    window_sg = window_sg + 1\n",
    "order_sg = 3 # order of polynomial used in savitzky_golay filter\n",
    "resp_smooth=sp.signal.savgol_filter(resp,window_sg,order_sg)\n",
    "resp_detrend = resp - resp_smooth\n",
    "ax_2 = plt.figure().gca()\n",
    "ax_2.plot(resp_time,resp,'r')\n",
    "ax_2.plot(resp_time,resp_smooth,'k')\n",
    "ax_2.plot(resp_time,resp_detrend)"
   ]
  },
  {
   "cell_type": "markdown",
   "metadata": {},
   "source": [
    "## Step 9: Detecting peaks (maxima) and valleys (minima) in respiration signal"
   ]
  },
  {
   "cell_type": "code",
   "execution_count": null,
   "metadata": {},
   "outputs": [],
   "source": [
    "resp = resp - resp.min()\n",
    "# define minimum separation between peaks in timepoints\n",
    "resp_peak_min_dist = int(round(1.5 / resp_ts))\n",
    "print('Minimum time points between two respiration local maxima (peaks and valleys) is {}'.format(resp_peak_min_dist))\n",
    "resp_peaks = np.asarray(argrelmax(resp, order = resp_peak_min_dist))\n",
    "resp_peaks = resp_peaks.flatten()\n",
    "resp_valleys = np.asarray(argrelmax(-1.0*resp, order = resp_peak_min_dist))\n",
    "resp_valleys = resp_valleys.flatten()\n",
    "ax = plt.figure().gca()\n",
    "ax.plot(resp_time,resp,color='k')\n",
    "ax.plot(resp_time[resp_peaks],resp[resp_peaks],linestyle=\"none\",marker='*',markersize=10,color='r')\n",
    "ax.plot(resp_time[resp_valleys],resp[resp_valleys],linestyle=\"none\",marker='*',markersize=10,color='g')"
   ]
  },
  {
   "cell_type": "markdown",
   "metadata": {},
   "source": [
    "# RETROICOR"
   ]
  },
  {
   "cell_type": "markdown",
   "metadata": {},
   "source": [
    "## Step 1: Computing phase of cardiac pulse for each slice"
   ]
  },
  {
   "cell_type": "markdown",
   "metadata": {},
   "source": [
    "### Here is an example for one slice (jj=1)"
   ]
  },
  {
   "cell_type": "code",
   "execution_count": null,
   "metadata": {},
   "outputs": [],
   "source": [
    "jj=1\n",
    "# initialize varibles for current slice\n",
    "times_crSlice = TR * np.arange(nscans)+slice_timings[jj]\n",
    "#print times_crSlice[1:10]\n",
    "phase_card_crSlice = np.zeros(nscans)\n",
    "card_peaks_sec = card_peaks / card_fs\n",
    "for ii in range(nscans):\n",
    "    previous_card_peaks = np.asarray(np.nonzero(card_peaks_sec < times_crSlice[ii]))\n",
    "    if np.size(previous_card_peaks) == 0:\n",
    "        t1 = 0\n",
    "    else:\n",
    "        last_peak = previous_card_peaks[0][-1]\n",
    "        t1 = card_peaks_sec[last_peak]\n",
    "    next_card_peaks = np.asarray(np.nonzero(card_peaks_sec > times_crSlice[ii]))\n",
    "    if np.size(next_card_peaks) == 0:\n",
    "        t2 = nscans * TR\n",
    "    else:\n",
    "        next_peak = next_card_peaks[0][0]\n",
    "        t2 = card_peaks_sec[next_peak]\n",
    "    phase_card_crSlice[ii] = (2*np.math.pi*(times_crSlice[ii] - t1))/(t2-t1)"
   ]
  },
  {
   "cell_type": "markdown",
   "metadata": {},
   "source": [
    "### plot cardiac phase for this slice"
   ]
  },
  {
   "cell_type": "code",
   "execution_count": null,
   "metadata": {
    "scrolled": true
   },
   "outputs": [],
   "source": [
    "ax = plt.figure().gca()\n",
    "ax.plot(phase_card_crSlice)"
   ]
  },
  {
   "cell_type": "markdown",
   "metadata": {},
   "source": [
    "## Do it for all slices"
   ]
  },
  {
   "cell_type": "code",
   "execution_count": null,
   "metadata": {},
   "outputs": [],
   "source": [
    "phases_card = np.zeros((nscans,nslices))\n",
    "card_peaks_sec = card_peaks / card_fs\n",
    "for jj in range(nslices):\n",
    "    # generate slice acquisition timings across all scans\n",
    "    times_crSlice = TR*np.arange(nscans) + slice_timings[jj]\n",
    "    phase_card_crSlice = np.zeros(nscans)\n",
    "    for ii in range(nscans):\n",
    "        previous_card_peaks = np.asarray(np.nonzero(card_peaks_sec < times_crSlice[ii]))\n",
    "        if np.size(previous_card_peaks) == 0:\n",
    "            t1 = 0\n",
    "        else:\n",
    "            last_peak = previous_card_peaks[0][-1]\n",
    "            t1 = card_peaks_sec[last_peak]\n",
    "        next_card_peaks = np.asarray(np.nonzero(card_peaks_sec > times_crSlice[ii]))\n",
    "        if np.size(next_card_peaks) == 0:\n",
    "            t2 = nscans * TR\n",
    "        else:\n",
    "            next_peak = next_card_peaks[0][0]\n",
    "            t2 = card_peaks_sec[next_peak]\n",
    "        phase_card_crSlice[ii] = (2*np.math.pi*(times_crSlice[ii] - t1))/(t2-t1)\n",
    "    phases_card[:,jj] = phase_card_crSlice"
   ]
  },
  {
   "cell_type": "code",
   "execution_count": null,
   "metadata": {},
   "outputs": [],
   "source": [
    "ax = plt.figure().gca()\n",
    "ax.plot(phases_card[:,10:12])"
   ]
  },
  {
   "cell_type": "markdown",
   "metadata": {},
   "source": [
    "## Step 2: Computing phase for respiration signal"
   ]
  },
  {
   "cell_type": "markdown",
   "metadata": {},
   "source": [
    "### First, compute the histogram of the respiration signal"
   ]
  },
  {
   "cell_type": "code",
   "execution_count": null,
   "metadata": {},
   "outputs": [],
   "source": [
    "plt.figure()\n",
    "resp_hist, resp_hist_bins, resp_hist_patches = plt.hist(resp,bins=100)"
   ]
  },
  {
   "cell_type": "markdown",
   "metadata": {},
   "source": [
    "### Here is one example for one slice (jj=1)"
   ]
  },
  {
   "cell_type": "code",
   "execution_count": null,
   "metadata": {},
   "outputs": [],
   "source": [
    "# first compute derivative of respiration signal\n",
    "resp_diff = np.diff(resp,n=1)\n",
    "\n",
    "jj=1\n",
    "# initialize varibles for current slice\n",
    "times_crSlice = TR * np.arange(nscans)+slice_timings[jj]\n",
    "#print times_crSlice[1:10]\n",
    "phase_resp_crSlice = np.zeros(nscans)\n",
    "resp_peaks_sec = card_peaks / card_fs\n",
    "for ii in range(nscans):\n",
    "    iphys = int(max([1,round(times_crSlice[ii] * resp_fs)])) # closest idx in resp waveform\n",
    "    iphys = min([iphys,len(resp_diff)]) # cannot be longer than resp_diff\n",
    "    thisBin = np.argmin(abs(resp[iphys] - resp_hist_bins))\n",
    "    numerator = np.sum(resp_hist[0:thisBin])\n",
    "    phase_resp_crSlice[ii] = np.math.pi*np.sign(resp_diff[iphys])*(numerator/len(resp))\n",
    "ax = plt.figure().gca()\n",
    "ax.plot(phase_card_crSlice)"
   ]
  },
  {
   "cell_type": "markdown",
   "metadata": {},
   "source": [
    "### Do it for all slices"
   ]
  },
  {
   "cell_type": "code",
   "execution_count": null,
   "metadata": {},
   "outputs": [],
   "source": [
    "phases_resp = np.zeros((nscans,nslices))\n",
    "for jj in range(nslices):\n",
    "    # generate slice acquisition timings across all scans\n",
    "    times_crSlice = TR*np.arange(nscans) + slice_timings[jj]\n",
    "    phase_resp_crSlice = np.zeros(nscans)\n",
    "    for ii in range(nscans):\n",
    "        iphys = int(max([1,round(times_crSlice[ii] * resp_fs)])) # closest idx in resp waveform\n",
    "        iphys = min([iphys,len(resp_diff)]) # cannot be longer than resp_diff\n",
    "        thisBin = np.argmin(abs(resp[iphys] - resp_hist_bins))\n",
    "        numerator = np.sum(resp_hist[0:thisBin])\n",
    "        phase_resp_crSlice[ii] = np.math.pi*np.sign(resp_diff[iphys])*(numerator/len(resp))\n",
    "    phases_resp[:,jj] = phase_resp_crSlice\n",
    "ax = plt.figure().gca()\n",
    "ax.plot(phases_resp[:,10:15])"
   ]
  },
  {
   "cell_type": "markdown",
   "metadata": {},
   "source": [
    "## Step 3: Compute RETROICOR regressors"
   ]
  },
  {
   "cell_type": "code",
   "execution_count": null,
   "metadata": {},
   "outputs": [],
   "source": [
    "nharmonics_resp = 2\n",
    "nharmonics_card = 2\n",
    "regressors_resp_retroicor = np.zeros((nslices,nscans,2*nharmonics_resp))\n",
    "regressors_card_retroicor = np.zeros((nslices,nscans,2*nharmonics_card))\n",
    "for jj in range(nslices):\n",
    "    # respiration\n",
    "    phase_resp_crSlice = phases_resp[:,jj]\n",
    "    for nn in range(nharmonics_resp):\n",
    "        regressors_resp_retroicor[jj,:,(2*nn)] = np.cos((nn+1)*phase_resp_crSlice)\n",
    "        regressors_resp_retroicor[jj,:,(2*nn+1)] = np.sin((nn+1)*phase_resp_crSlice)\n",
    "    # cardiac\n",
    "    phase_card_crSlice = phases_card[:,jj]\n",
    "    for nn in range(nharmonics_card):\n",
    "        regressors_card_retroicor[jj,:,(2*nn)] = np.cos((nn+1)*phase_card_crSlice)\n",
    "        regressors_card_retroicor[jj,:,(2*nn+1)] = np.sin((nn+1)*phase_card_crSlice)"
   ]
  },
  {
   "cell_type": "markdown",
   "metadata": {},
   "source": [
    "### plot respiratory regressors for one slice (e.g. jj=4)"
   ]
  },
  {
   "cell_type": "code",
   "execution_count": null,
   "metadata": {},
   "outputs": [],
   "source": [
    "ax_1 = plt.figure().gca()\n",
    "ax_1.plot(regressors_resp_retroicor[4,:,:])"
   ]
  },
  {
   "cell_type": "code",
   "execution_count": null,
   "metadata": {},
   "outputs": [],
   "source": [
    "freqs = np.fft.fftfreq(nscans, TR)\n",
    "idx = np.argsort(freqs)\n",
    "ps_1st_harmonic = np.abs(np.fft.fft(regressors_resp_retroicor[4,:,0]))**2\n",
    "ps_2nd_harmonic = np.abs(np.fft.fft(regressors_resp_retroicor[4,:,2]))**2\n",
    "ax_2 = plt.figure().gca()\n",
    "ax_2.plot(freqs[idx], ps_1st_harmonic[idx],color='k')\n",
    "ax_2.plot(freqs[idx], ps_2nd_harmonic[idx],color='r')"
   ]
  },
  {
   "cell_type": "code",
   "execution_count": null,
   "metadata": {},
   "outputs": [],
   "source": [
    "ax = plt.figure().gca()\n",
    "ax.plot(regressors_card_retroicor[4,:,:])"
   ]
  },
  {
   "cell_type": "markdown",
   "metadata": {},
   "source": [
    "### plot cardiac regressors for one slice (jj=4)"
   ]
  },
  {
   "cell_type": "code",
   "execution_count": null,
   "metadata": {},
   "outputs": [],
   "source": [
    "freqs = np.fft.fftfreq(nscans, TR)\n",
    "idx = np.argsort(freqs)\n",
    "ps_1st_harmonic = np.abs(np.fft.fft(regressors_card_retroicor[4,:,0]))**2\n",
    "ps_2nd_harmonic = np.abs(np.fft.fft(regressors_card_retroicor[4,:,2]))**2\n",
    "ax_2 = plt.figure().gca()\n",
    "ax_2.plot(freqs[idx], ps_1st_harmonic[idx],color='k')\n",
    "ax_2.plot(freqs[idx], ps_2nd_harmonic[idx],color='r')"
   ]
  },
  {
   "cell_type": "markdown",
   "metadata": {},
   "source": [
    "# RVHR "
   ]
  },
  {
   "cell_type": "markdown",
   "metadata": {},
   "source": [
    "## Step 1: Compute respiratory volume signal"
   ]
  },
  {
   "cell_type": "code",
   "execution_count": null,
   "metadata": {},
   "outputs": [],
   "source": [
    "Twin = 6 # Time window to consider for instantaneous variations in respiration\n",
    "regressors_RV = np.zeros((nscans,nslices))\n",
    "#ax = plt.figure().gca()\n",
    "#ax.plot(resp)\n",
    "for jj in range(nslices):\n",
    "    rv = np.zeros(nscans)\n",
    "    times_crSlice = TR * np.arange(nscans)+slice_timings[jj]\n",
    "    for ii in range(nscans):\n",
    "        i1 = int(max(0,np.floor((times_crSlice[ii]-0.5*Twin)/resp_ts)))\n",
    "        i2 = int(min(len(resp),np.floor((times_crSlice[ii]+0.5*Twin)/resp_ts)))\n",
    "        rv[ii] = np.std(resp[i1:i2])\n",
    "    rv = rv - np.mean(rv)\n",
    "    regressors_RV[:,jj] = rv"
   ]
  },
  {
   "cell_type": "markdown",
   "metadata": {},
   "source": [
    "## Step 2: Convolve with respiratory response function"
   ]
  },
  {
   "cell_type": "code",
   "execution_count": null,
   "metadata": {},
   "outputs": [],
   "source": [
    "time_rrf = np.arange(0,40,TR)\n",
    "rrf = 0.6*(time_rrf**2.1)*np.exp((-1.0*time_rrf)/1.6) - 0.0023 * (time_rrf**3.54)*np.exp((-1.0*time_rrf)/4.25)\n",
    "#rrf = rrf / np.max(rrf)\n",
    "rrf = rrf / (np.sum(rrf**2)**0.5)\n",
    "regressors_RV_RRF = np.zeros((nscans,nslices))\n",
    "for jj in range(nslices):\n",
    "    # convolve respiratory volume with RRF\n",
    "    regressors_RV_RRF[:,jj] = np.convolve(regressors_RV[:,jj],rrf,mode='same')"
   ]
  },
  {
   "cell_type": "code",
   "execution_count": null,
   "metadata": {},
   "outputs": [],
   "source": [
    "ax_1 = plt.figure().gca()\n",
    "ax_1.plot(time_rrf,rrf / np.max(rrf))\n",
    "ax_2 = plt.figure().gca()\n",
    "ax_2.plot(regressors_RV_RRF[:,4],color='k')\n",
    "ax_2.plot(regressors_RV[:,4],color='r')"
   ]
  },
  {
   "cell_type": "markdown",
   "metadata": {},
   "source": [
    "## Step 3: Compute cardiac rate signal"
   ]
  },
  {
   "cell_type": "code",
   "execution_count": null,
   "metadata": {},
   "outputs": [],
   "source": [
    "Twin = 6 # Time window to consider for instantaneous variations in respiration\n",
    "regressors_CR = np.zeros((nscans,nslices))\n",
    "num_card_peaks = np.size(card_peaks_sec)\n",
    "for jj in range(nslices):\n",
    "    hr = np.zeros(num_card_peaks)\n",
    "    for ii in range(num_card_peaks):\n",
    "        if ii == (num_card_peaks - 1):\n",
    "            hr[ii] = hr[ii-1]\n",
    "        else:\n",
    "            hr[ii] = 1.0 / (card_peaks_sec[ii+1]-card_peaks_sec[ii])\n",
    "    fdec_hr = sp.interpolate.interp1d(card_peaks_sec,hr,fill_value=\"extrapolate\")\n",
    "    times_crSlice = TR * np.arange(nscans) + slice_timings[jj]\n",
    "    hr = fdec_hr(times_crSlice)\n",
    "    #if times_crSlice[0] < card_peaks_sec[0]:\n",
    "    #    hr = fdec_hr(times_crSlice[1:])\n",
    "    #    hr = np.append(hr[0],hr)\n",
    "    #else:\n",
    "    #    hr = fdec_hr(times_crSlice)\n",
    "    hr = hr - np.mean(hr)\n",
    "    regressors_CR[:,jj] = hr"
   ]
  },
  {
   "cell_type": "code",
   "execution_count": null,
   "metadata": {},
   "outputs": [],
   "source": [
    "ax = plt.figure().gca()\n",
    "ax.plot(regressors_CR[:,1])"
   ]
  },
  {
   "cell_type": "markdown",
   "metadata": {},
   "source": [
    "## Step 4: Convolve with Cardiac Response Function"
   ]
  },
  {
   "cell_type": "code",
   "execution_count": null,
   "metadata": {},
   "outputs": [],
   "source": [
    "time_crf = np.arange(0,40,TR)\n",
    "crf = 0.6*(time_crf**2.7)*np.exp((-1.0*time_crf)/1.6) - 16 * sp.stats.norm.pdf(time_crf,12,3)\n",
    "crf = crf / (np.sum(crf**2)**0.5)\n",
    "regressors_CR_CRF = np.zeros((nscans,nslices))\n",
    "for jj in range(nslices):\n",
    "    # convolve respiratory volume with RRF\n",
    "    regressors_CR_CRF[:,jj] = np.convolve(regressors_CR[:,jj],crf,mode='same')"
   ]
  },
  {
   "cell_type": "code",
   "execution_count": null,
   "metadata": {},
   "outputs": [],
   "source": [
    "ax_1 = plt.figure().gca()\n",
    "ax_1.plot(time_crf,crf / np.max(crf))\n",
    "ax_2 = plt.figure().gca()\n",
    "ax_2.plot(regressors_CR_CRF[:,4],color='k')\n",
    "ax_2.plot(regressors_CR[:,4],color='r')"
   ]
  },
  {
   "cell_type": "markdown",
   "metadata": {},
   "source": [
    "# Denoising data"
   ]
  },
  {
   "cell_type": "markdown",
   "metadata": {},
   "source": [
    "## Step 1: Split dataset in slices, save regressors in .1D (.txt) files and run 3dDeconvolve for denoising"
   ]
  },
  {
   "cell_type": "code",
   "execution_count": null,
   "metadata": {},
   "outputs": [],
   "source": [
    "crdir = os.getcwd()\n",
    "input_dataset_dir = os.path.dirname(input_dataset)\n",
    "print \"Directory Input Dataset:\", input_dataset_dir\n",
    "input_fname = os.path.basename(input_dataset)\n",
    "print \"Input Dataset:\", input_fname, \"\\n\"\n",
    "# change to directory of input dataset (this is just for convenience, but not strictly necessary)\n",
    "os.chdir(input_dataset_dir)\n",
    "\n",
    "jobs = 6 # number of processors in multi-CPU machines\n",
    "tmp_file = random_string(15)\n",
    "for jj in range(nslices):\n",
    "    \n",
    "    cr_tmp_file = \"%s.SL%02d\" % (tmp_file,jj)\n",
    "    cr_tmp_file_NII = \"%s.SL%02d.nii.gz\" % (tmp_file,jj)\n",
    "    command = \"3dZcutup -keep %s %s -prefix %s %s\" % (jj,jj,cr_tmp_file_NII,input_fname)\n",
    "    print command, \"\\n\"\n",
    "    call(command,shell=True)\n",
    "    \n",
    "    # Run 3dDeconvolve\n",
    "    command = \"3dDeconvolve -float -quiet -polort A -input %s\" % (cr_tmp_file_NII)\n",
    "    \n",
    "    # RETROICOR RESPIRATION REGRESSORS\n",
    "    cr_ortvec_file = \"%s_retro_resp.1D\" % (cr_tmp_file)\n",
    "    np.savetxt(cr_ortvec_file,regressors_resp_retroicor[jj,:,:],fmt='%.6f')\n",
    "    command = \"%s -ortvec %s RETRO_RESP\" % (command,cr_ortvec_file)\n",
    "    \n",
    "    # RETROICOR CARDIAC REGRESSORS\n",
    "    cr_ortvec_file = \"%s_retro_card.1D\" % (cr_tmp_file)\n",
    "    np.savetxt(cr_ortvec_file,regressors_card_retroicor[jj,:,:],fmt='%.6f')\n",
    "    command = \"%s -ortvec %s RETRO_CARD\" % (command,cr_ortvec_file)\n",
    "    \n",
    "    # RV convolved with RRF REGRESSOR\n",
    "    cr_ortvec_file = \"%s_hr_crf.1D\" % (cr_tmp_file)\n",
    "    np.savetxt(cr_ortvec_file,regressors_CR_CRF[:,jj],fmt='%.6f')\n",
    "    command = \"%s -ortvec %s HR_CRF\" % (command,cr_ortvec_file)\n",
    "    \n",
    "    # CR convolved with CRF REGRESSOR\n",
    "    cr_ortvec_file = \"%s_rv_rrf.1D\" % (cr_tmp_file)\n",
    "    np.savetxt(cr_ortvec_file,regressors_RV_RRF[:,jj],fmt='%.6f')\n",
    "    command = \"%s -ortvec %s RV_RRF\" % (command,cr_ortvec_file)\n",
    "\n",
    "    # statistics\n",
    "    command = \"%s -fout -rout -bout\" % (command)\n",
    "    \n",
    "    # denoised dataset\n",
    "    command = \"%s -errts errts_%s\" % (command,cr_tmp_file_NII)\n",
    "    \n",
    "    # bucket with statistics\n",
    "    command = \"%s -bucket stats_%s\" % (command,cr_tmp_file_NII)\n",
    "    \n",
    "    # save physiological regressors for current slice\n",
    "    cr_x1D_file = \"X_physio_%s.SL%02d.1D\" % (input_fname,jj)\n",
    "    command = \"%s -x1D %s\" % (command,cr_x1D_file)\n",
    "    \n",
    "    # number of jobs to run 3dDeconvolve on multi-CPU machine\n",
    "    command = \"%s -jobs %d\" % (command,jobs)\n",
    "    \n",
    "    # run 3dDeconvolve\n",
    "    print command, \"\\n\"\n",
    "    call(command,shell=True)\n",
    "    \n",
    "    # delete temporary 1D files\n",
    "    command = \"rm %s_*.1D\" % (cr_tmp_file)\n",
    "    print command, \"\\n\"\n",
    "    call(command,shell=True)\n",
    "    "
   ]
  },
  {
   "cell_type": "markdown",
   "metadata": {},
   "source": [
    "## Step 2: Merge denoised dataset"
   ]
  },
  {
   "cell_type": "code",
   "execution_count": null,
   "metadata": {},
   "outputs": [],
   "source": [
    "command = \"3dZcat -overwrite -datum float -prefix denoised_%s errts_%s.SL*\" % (input_fname,tmp_file)\n",
    "print command, \"\\n\"\n",
    "call(command,shell=True)\n",
    "command = \"3dZcat -overwrite -datum float -prefix stats_%s stats_%s.SL*\" % (input_fname,tmp_file)\n",
    "print command, \"\\n\"\n",
    "call(command,shell=True)"
   ]
  },
  {
   "cell_type": "markdown",
   "metadata": {},
   "source": [
    "## Step 3: Remove results for each slice and return to original directory"
   ]
  },
  {
   "cell_type": "code",
   "execution_count": null,
   "metadata": {},
   "outputs": [],
   "source": [
    "command = \"rm %s.SL* errts_%s.SL* stats_%s.SL*\" % (tmp_file,tmp_file,tmp_file)\n",
    "print command, \"\\n\"\n",
    "call(command,shell=True)\n",
    "os.chdir(crdir)"
   ]
  },
  {
   "cell_type": "markdown",
   "metadata": {},
   "source": [
    "# That's all folks, enjoy denoising and remember to collect physiological signals. Otherwise you won't know whether your data will affected by these confounding signals"
   ]
  }
 ],
 "metadata": {
  "kernelspec": {
   "display_name": "Python 2",
   "language": "python",
   "name": "python2"
  },
  "language_info": {
   "codemirror_mode": {
    "name": "ipython",
    "version": 2
   },
   "file_extension": ".py",
   "mimetype": "text/x-python",
   "name": "python",
   "nbconvert_exporter": "python",
   "pygments_lexer": "ipython2",
   "version": "2.7.10"
  }
 },
 "nbformat": 4,
 "nbformat_minor": 2
}
